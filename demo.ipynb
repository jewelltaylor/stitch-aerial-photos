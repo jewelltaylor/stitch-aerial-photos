{
 "cells": [
  {
   "cell_type": "code",
   "execution_count": 1,
   "id": "574b6e39",
   "metadata": {},
   "outputs": [],
   "source": [
    "# !python -m ipykernel install --user --name sd_env --display-name \"Python (myenv)\"\n",
    "!source /Users/taylorjewell/anaconda3/bin/activate sd_env\n",
    "import sys"
   ]
  },
  {
   "cell_type": "code",
   "execution_count": 2,
   "id": "a260304b",
   "metadata": {},
   "outputs": [],
   "source": [
    "import os\n",
    "import sys\n",
    "import yaml\n",
    "import math\n",
    "import pandas as pd\n",
    "from main import run\n",
    "from IPython.display import Image\n",
    "from utils.cfg import update_cfg\n",
    "from utils.initialization import PoseInit"
   ]
  },
  {
   "cell_type": "code",
   "execution_count": 3,
   "id": "f9a19d98",
   "metadata": {},
   "outputs": [],
   "source": [
    "#Initiliaze file name & path globals\n",
    "DIR_PATH = \"images\"\n",
    "IMG_DIR = f\"data/{DIR_PATH}\"\n",
    "img_path_list = [f\"{IMG_DIR}/{path}\" for path in os.listdir(IMG_DIR) if \".jpg\" in path or \".JPG\" in path]\n",
    "img_name_list = [path.split(\"/\")[2][:-4] for path in img_path_list]"
   ]
  },
  {
   "cell_type": "code",
   "execution_count": 4,
   "id": "2a6056ef",
   "metadata": {},
   "outputs": [],
   "source": [
    "#Get initializations\n",
    "pi = PoseInit(IMG_DIR)\n",
    "md_dict = pi.get_md_dict()"
   ]
  },
  {
   "cell_type": "code",
   "execution_count": 5,
   "id": "dde3df91",
   "metadata": {},
   "outputs": [],
   "source": [
    "# Parse and update configuration file\n",
    "with open('config.yaml', 'r') as f:\n",
    "    cfg = yaml.safe_load(f)\n",
    "\n",
    "cfg = update_cfg(cfg, IMG_DIR, name=\"images\", max_dist=True) "
   ]
  },
  {
   "cell_type": "code",
   "execution_count": 6,
   "id": "e44ef5e7",
   "metadata": {},
   "outputs": [
    {
     "name": "stdout",
     "output_type": "stream",
     "text": [
      "Step 1\n",
      "\n",
      "\n",
      "           x_init      y_init  theta_init  scale_init\n",
      "index                                                \n",
      "0      505.033155  333.038211   -0.178024           1\n",
      "1     -373.377310  456.004205   -0.179769           1\n",
      "2     -503.789231 -394.342831   -0.191986           1\n",
      "3     -135.845544 -456.004205   -0.191986           1\n",
      "        file_id  swath_id      x_init      y_init  theta_init  scale_init  \\\n",
      "index                                                                       \n",
      "0      dji_0009         0  505.033155  333.038211   -0.178024           1   \n",
      "1      dji_0010         1 -373.377310  456.004205   -0.179769           1   \n",
      "2      dji_0011         2 -503.789231 -394.342831   -0.191986           1   \n",
      "3      dji_0012         3 -135.845544 -456.004205   -0.191986           1   \n",
      "\n",
      "                       img_file                     wld_file  width  height  \n",
      "index                                                                        \n",
      "0      data/images/dji_0009.jpg  results/images/dji_0009.jgw   4000    3000  \n",
      "1      data/images/dji_0010.jpg  results/images/dji_0010.jgw   4000    3000  \n",
      "2      data/images/dji_0011.jpg  results/images/dji_0011.jgw   4000    3000  \n",
      "3      data/images/dji_0012.jpg  results/images/dji_0012.jgw   4000    3000  \n",
      "\n",
      "\n",
      "Initializing virtual raster.\n",
      "Step 2\n",
      "Step 3\n",
      "MAX_DIST None\n",
      "Graph:  defaultdict(<class 'list'>, {0: [1, 2, 3], 1: [0, 2, 3], 2: [0, 1, 3], 3: [0, 1, 2]})\n"
     ]
    },
    {
     "name": "stderr",
     "output_type": "stream",
     "text": [
      "Building links.: 100%|██████████| 6/6 [02:38<00:00, 26.46s/it]\n",
      "/Users/taylorjewell/Desktop/stitch-aerial-photos/src/optim.py:112: MatplotlibDeprecationWarning: The 's' parameter of annotate() has been renamed 'text' since Matplotlib 3.3; support for the old name will be dropped two minor releases later.\n",
      "  s='{}-{}-{}node'.format(str(int(x)), str(int(y)), str(node)), xy=(x, y), fontsize=7)\n"
     ]
    },
    {
     "name": "stdout",
     "output_type": "stream",
     "text": [
      "{(0, 1): Affine(1.0118955516095638, -0.0021399399142207625, -960.5143037195077,\n",
      "       0.0021399399142207625, 1.0118955516095638, -54.143819049630814), (0, 2): Affine(1.0193417273103835, -0.009306169399920608, -907.4009983026713,\n",
      "       0.009306169399920608, 1.0193417273103835, -1045.7015450905108), (0, 3): Affine(1.0166624691863373, -0.008526674261679232, -526.1811968295915,\n",
      "       0.008526674261679232, 1.0166624691863373, -1027.0115277394982), (1, 2): Affine(1.0049309245090188, 0.002860697279124094, 37.68123009502034,\n",
      "       -0.002860697279124094, 1.0049309245090188, -967.8181285851782), (1, 3): Affine(1.0012729797610929, 0.00045919720737585526, 416.6065707751884,\n",
      "       -0.00045919720737585526, 1.0012729797610929, -961.3768652652318), (2, 3): Affine(0.9945287844182159, -0.0040417056584156836, 385.485869812555,\n",
      "       0.0040417056584156836, 0.9945287844182159, 7.088192081558034), (1, 0): Affine(0.9882398693427804, 0.002089913270067329, 949.3316858955618,\n",
      "       -0.002089913270067329, 0.9882398693427804, 51.49968907389342), (2, 0): Affine(0.9809435155947426, 0.008955609569683262, 899.4740200934466,\n",
      "       -0.008955609569683262, 0.9809435155947426, 1017.6478208400002), (2, 1): Affine(0.9950852065554677, -0.002832669861643129, -40.23754387676251,\n",
      "       0.002832669861643129, 0.9950852065554677, 962.9547639064685), (3, 0): Affine(0.983541435534111, 0.008248890558904532, 525.9927153758895,\n",
      "       -0.008248890558904532, 0.983541435534111, 1005.7679811961858), (3, 1): Affine(0.9987284285973592, -0.00045803024211060837, -416.51716545199537,\n",
      "       0.00045803024211060837, 0.9987284285973592, 959.963587527723), (3, 2): Affine(1.005484708264678, 0.004086229879430886, -387.62911133090734,\n",
      "       -0.004086229879430886, 1.005484708264678, -5.551884867922914)}\n",
      "Step 4\n",
      "Globally optimizing.\n",
      "[-0.1780235837034216, -0.17976891295541594, -0.19198621771937624, -0.19198621771937624]\n"
     ]
    },
    {
     "name": "stderr",
     "output_type": "stream",
     "text": [
      "/Users/taylorjewell/Desktop/stitch-aerial-photos/src/optim.py:246: MatplotlibDeprecationWarning: The 's' parameter of annotate() has been renamed 'text' since Matplotlib 3.3; support for the old name will be dropped two minor releases later.\n",
      "  s='{}-{}-{}node'.format(str(int(x)), str(int(y)), str(node)), xy=(x, y), fontsize=7)\n"
     ]
    },
    {
     "name": "stdout",
     "output_type": "stream",
     "text": [
      "Iter: 199; Loss: 90.242\n",
      "Iter: 399; Loss: 83.457\n",
      "Iter: 599; Loss: 83.456\n",
      "Iter: 799; Loss: 83.456\n",
      "Iter: 999; Loss: 83.456\n",
      "Iter: 1199; Loss: 83.456\n",
      "Iter: 1399; Loss: 83.456\n",
      "Iter: 1599; Loss: 83.457\n",
      "Iter: 1799; Loss: 83.457\n",
      "Iter: 1999; Loss: 83.457\n",
      "Iter: 2199; Loss: 83.457\n",
      "Iter: 2399; Loss: 83.457\n",
      "Iter: 2599; Loss: 83.457\n",
      "Iter: 2799; Loss: 83.457\n",
      "Iter: 2999; Loss: 83.457\n",
      "Iter: 3199; Loss: 83.457\n",
      "Iter: 3399; Loss: 83.456\n",
      "Iter: 3599; Loss: 83.457\n",
      "Iter: 3799; Loss: 83.456\n",
      "Iter: 3999; Loss: 83.456\n",
      "Iter: 4199; Loss: 83.456\n",
      "Iter: 4399; Loss: 83.457\n",
      "Iter: 4599; Loss: 83.456\n",
      "Iter: 4799; Loss: 83.457\n",
      "Iter: 4999; Loss: 83.456\n",
      "Iter: 5199; Loss: 83.457\n",
      "Iter: 5399; Loss: 83.457\n",
      "Iter: 5599; Loss: 83.456\n",
      "Iter: 5799; Loss: 83.457\n",
      "Iter: 5999; Loss: 83.457\n",
      "Iter: 6199; Loss: 83.457\n",
      "Iter: 6399; Loss: 83.457\n",
      "Iter: 6599; Loss: 83.457\n",
      "Iter: 6799; Loss: 83.456\n",
      "Iter: 6999; Loss: 83.457\n",
      "Iter: 7199; Loss: 83.457\n",
      "Iter: 7399; Loss: 83.456\n",
      "Iter: 7599; Loss: 83.457\n",
      "Iter: 7799; Loss: 83.456\n",
      "Iter: 7999; Loss: 83.457\n",
      "Iter: 8199; Loss: 83.457\n",
      "Iter: 8399; Loss: 83.457\n",
      "Iter: 8599; Loss: 83.456\n",
      "Iter: 8799; Loss: 83.457\n",
      "Iter: 8999; Loss: 83.457\n",
      "Iter: 9199; Loss: 83.457\n",
      "Iter: 9399; Loss: 83.457\n",
      "Iter: 9599; Loss: 83.456\n",
      "Iter: 9799; Loss: 83.456\n",
      "Iter: 9999; Loss: 83.457\n",
      "Iter: 10199; Loss: 83.456\n",
      "Iter: 10399; Loss: 83.457\n",
      "Iter: 10599; Loss: 83.457\n",
      "Iter: 10799; Loss: 83.457\n",
      "Iter: 10999; Loss: 83.456\n",
      "Iter: 11199; Loss: 83.457\n",
      "Iter: 11399; Loss: 83.457\n",
      "Iter: 11599; Loss: 83.456\n",
      "Iter: 11799; Loss: 83.456\n",
      "Iter: 11999; Loss: 83.457\n",
      "Thetas:  tensor([-0.1889, -0.1826, -0.1832, -0.1808], requires_grad=True)\n",
      "Step 5\n"
     ]
    },
    {
     "name": "stderr",
     "output_type": "stream",
     "text": [
      "\r",
      "0it [00:00, ?it/s]"
     ]
    },
    {
     "name": "stdout",
     "output_type": "stream",
     "text": [
      "Band Shape (2760, 3520)\n",
      "Band Shape (2760, 3520)\n",
      "Band Shape (2760, 3520)\n"
     ]
    },
    {
     "name": "stderr",
     "output_type": "stream",
     "text": [
      "\r",
      "1it [00:05,  5.37s/it]"
     ]
    },
    {
     "name": "stdout",
     "output_type": "stream",
     "text": [
      "Band Shape (2760, 3520)\n",
      "Band Shape (2760, 3520)\n",
      "Band Shape (2760, 3520)\n"
     ]
    },
    {
     "name": "stderr",
     "output_type": "stream",
     "text": [
      "\r",
      "2it [00:10,  5.04s/it]"
     ]
    },
    {
     "name": "stdout",
     "output_type": "stream",
     "text": [
      "Band Shape (2760, 3520)\n",
      "Band Shape (2760, 3520)\n",
      "Band Shape (2760, 3520)\n"
     ]
    },
    {
     "name": "stderr",
     "output_type": "stream",
     "text": [
      "\r",
      "3it [00:13,  4.42s/it]"
     ]
    },
    {
     "name": "stdout",
     "output_type": "stream",
     "text": [
      "Band Shape (2760, 3520)\n",
      "Band Shape (2760, 3520)\n",
      "Band Shape (2760, 3520)\n"
     ]
    },
    {
     "name": "stderr",
     "output_type": "stream",
     "text": [
      "4it [00:17,  4.34s/it]\n",
      "0it [00:00, ?it/s]"
     ]
    },
    {
     "name": "stdout",
     "output_type": "stream",
     "text": [
      "Band Shape (2760, 3520)\n",
      "Band Shape (2760, 3520)\n",
      "Band Shape (2760, 3520)\n"
     ]
    },
    {
     "name": "stderr",
     "output_type": "stream",
     "text": [
      "\r",
      "1it [00:04,  4.46s/it]"
     ]
    },
    {
     "name": "stdout",
     "output_type": "stream",
     "text": [
      "Band Shape (2760, 3520)\n",
      "Band Shape (2760, 3520)\n",
      "Band Shape (2760, 3520)\n"
     ]
    },
    {
     "name": "stderr",
     "output_type": "stream",
     "text": [
      "\r",
      "2it [00:08,  4.00s/it]"
     ]
    },
    {
     "name": "stdout",
     "output_type": "stream",
     "text": [
      "Band Shape (2760, 3520)\n",
      "Band Shape (2760, 3520)\n",
      "Band Shape (2760, 3520)\n"
     ]
    },
    {
     "name": "stderr",
     "output_type": "stream",
     "text": [
      "\r",
      "3it [00:11,  3.78s/it]"
     ]
    },
    {
     "name": "stdout",
     "output_type": "stream",
     "text": [
      "Band Shape (2760, 3520)\n",
      "Band Shape (2760, 3520)\n",
      "Band Shape (2760, 3520)\n"
     ]
    },
    {
     "name": "stderr",
     "output_type": "stream",
     "text": [
      "4it [00:15,  3.82s/it]\n",
      "0it [00:00, ?it/s]"
     ]
    },
    {
     "name": "stdout",
     "output_type": "stream",
     "text": [
      "Band Shape (2760, 3520)\n",
      "Band Shape (2760, 3520)\n",
      "Band Shape (2760, 3520)\n"
     ]
    },
    {
     "name": "stderr",
     "output_type": "stream",
     "text": [
      "\r",
      "1it [00:03,  3.87s/it]"
     ]
    },
    {
     "name": "stdout",
     "output_type": "stream",
     "text": [
      "Band Shape (2760, 3520)\n",
      "Band Shape (2760, 3520)\n",
      "Band Shape (2760, 3520)\n"
     ]
    },
    {
     "name": "stderr",
     "output_type": "stream",
     "text": [
      "\r",
      "2it [00:07,  3.88s/it]"
     ]
    },
    {
     "name": "stdout",
     "output_type": "stream",
     "text": [
      "Band Shape (2760, 3520)\n",
      "Band Shape (2760, 3520)\n",
      "Band Shape (2760, 3520)\n"
     ]
    },
    {
     "name": "stderr",
     "output_type": "stream",
     "text": [
      "\r",
      "3it [00:11,  3.87s/it]"
     ]
    },
    {
     "name": "stdout",
     "output_type": "stream",
     "text": [
      "Band Shape (2760, 3520)\n",
      "Band Shape (2760, 3520)\n",
      "Band Shape (2760, 3520)\n"
     ]
    },
    {
     "name": "stderr",
     "output_type": "stream",
     "text": [
      "4it [00:16,  4.14s/it]\n",
      "0it [00:00, ?it/s]"
     ]
    },
    {
     "name": "stdout",
     "output_type": "stream",
     "text": [
      "Band Shape (2760, 3520)\n",
      "Band Shape (2760, 3520)\n",
      "Band Shape (2760, 3520)\n"
     ]
    },
    {
     "name": "stderr",
     "output_type": "stream",
     "text": [
      "\r",
      "1it [00:04,  4.45s/it]"
     ]
    },
    {
     "name": "stdout",
     "output_type": "stream",
     "text": [
      "Band Shape (2760, 3520)\n",
      "Band Shape (2760, 3520)\n",
      "Band Shape (2760, 3520)\n"
     ]
    },
    {
     "name": "stderr",
     "output_type": "stream",
     "text": [
      "\r",
      "2it [00:07,  3.58s/it]"
     ]
    },
    {
     "name": "stdout",
     "output_type": "stream",
     "text": [
      "Band Shape (2760, 3520)\n",
      "Band Shape (2760, 3520)\n",
      "Band Shape (2760, 3520)\n"
     ]
    },
    {
     "name": "stderr",
     "output_type": "stream",
     "text": [
      "\r",
      "3it [00:10,  3.29s/it]"
     ]
    },
    {
     "name": "stdout",
     "output_type": "stream",
     "text": [
      "Band Shape (2760, 3520)\n",
      "Band Shape (2760, 3520)\n",
      "Band Shape (2760, 3520)\n"
     ]
    },
    {
     "name": "stderr",
     "output_type": "stream",
     "text": [
      "4it [00:13,  3.36s/it]\n",
      "0it [00:00, ?it/s]"
     ]
    },
    {
     "name": "stdout",
     "output_type": "stream",
     "text": [
      "Band Shape (2760, 3520)\n",
      "Band Shape (2760, 3520)\n",
      "Band Shape (2760, 3520)\n"
     ]
    },
    {
     "name": "stderr",
     "output_type": "stream",
     "text": [
      "\r",
      "1it [00:03,  3.93s/it]"
     ]
    },
    {
     "name": "stdout",
     "output_type": "stream",
     "text": [
      "Band Shape (2760, 3520)\n",
      "Band Shape (2760, 3520)\n",
      "Band Shape (2760, 3520)\n"
     ]
    },
    {
     "name": "stderr",
     "output_type": "stream",
     "text": [
      "\r",
      "2it [00:07,  3.44s/it]"
     ]
    },
    {
     "name": "stdout",
     "output_type": "stream",
     "text": [
      "Band Shape (2760, 3520)\n",
      "Band Shape (2760, 3520)\n",
      "Band Shape (2760, 3520)\n"
     ]
    },
    {
     "name": "stderr",
     "output_type": "stream",
     "text": [
      "\r",
      "3it [00:10,  3.43s/it]"
     ]
    },
    {
     "name": "stdout",
     "output_type": "stream",
     "text": [
      "Band Shape (2760, 3520)\n",
      "Band Shape (2760, 3520)\n",
      "Band Shape (2760, 3520)\n"
     ]
    },
    {
     "name": "stderr",
     "output_type": "stream",
     "text": [
      "4it [00:14,  3.70s/it]\n",
      "0it [00:00, ?it/s]"
     ]
    },
    {
     "name": "stdout",
     "output_type": "stream",
     "text": [
      "Band Shape (2760, 3520)\n",
      "Band Shape (2760, 3520)\n",
      "Band Shape (2760, 3520)\n"
     ]
    },
    {
     "name": "stderr",
     "output_type": "stream",
     "text": [
      "\r",
      "1it [00:06,  6.46s/it]"
     ]
    },
    {
     "name": "stdout",
     "output_type": "stream",
     "text": [
      "Band Shape (2760, 3520)\n",
      "Band Shape (2760, 3520)\n",
      "Band Shape (2760, 3520)\n"
     ]
    },
    {
     "name": "stderr",
     "output_type": "stream",
     "text": [
      "\r",
      "2it [00:10,  5.25s/it]"
     ]
    },
    {
     "name": "stdout",
     "output_type": "stream",
     "text": [
      "Band Shape (2760, 3520)\n",
      "Band Shape (2760, 3520)\n",
      "Band Shape (2760, 3520)\n"
     ]
    },
    {
     "name": "stderr",
     "output_type": "stream",
     "text": [
      "\r",
      "3it [00:15,  4.86s/it]"
     ]
    },
    {
     "name": "stdout",
     "output_type": "stream",
     "text": [
      "Band Shape (2760, 3520)\n",
      "Band Shape (2760, 3520)\n",
      "Band Shape (2760, 3520)\n"
     ]
    },
    {
     "name": "stderr",
     "output_type": "stream",
     "text": [
      "4it [00:18,  4.60s/it]\n",
      "0it [00:00, ?it/s]"
     ]
    },
    {
     "name": "stdout",
     "output_type": "stream",
     "text": [
      "Band Shape (2760, 3520)\n",
      "Band Shape (2760, 3520)\n",
      "Band Shape (2760, 3520)\n"
     ]
    },
    {
     "name": "stderr",
     "output_type": "stream",
     "text": [
      "\r",
      "1it [00:03,  3.58s/it]"
     ]
    },
    {
     "name": "stdout",
     "output_type": "stream",
     "text": [
      "Band Shape (2760, 3520)\n",
      "Band Shape (2760, 3520)\n",
      "Band Shape (2760, 3520)\n"
     ]
    },
    {
     "name": "stderr",
     "output_type": "stream",
     "text": [
      "\r",
      "2it [00:06,  3.22s/it]"
     ]
    },
    {
     "name": "stdout",
     "output_type": "stream",
     "text": [
      "Band Shape (2760, 3520)\n",
      "Band Shape (2760, 3520)\n",
      "Band Shape (2760, 3520)\n"
     ]
    },
    {
     "name": "stderr",
     "output_type": "stream",
     "text": [
      "\r",
      "3it [00:09,  3.15s/it]"
     ]
    },
    {
     "name": "stdout",
     "output_type": "stream",
     "text": [
      "Band Shape (2760, 3520)\n",
      "Band Shape (2760, 3520)\n",
      "Band Shape (2760, 3520)\n"
     ]
    },
    {
     "name": "stderr",
     "output_type": "stream",
     "text": [
      "4it [00:13,  3.28s/it]\n"
     ]
    },
    {
     "name": "stdout",
     "output_type": "stream",
     "text": [
      "Step 6\n",
      "Main function runtime: 0.091 hour(s)\n"
     ]
    }
   ],
   "source": [
    "#Save ave the initialization\n",
    "init = pd.DataFrame({\n",
    "    'file_id': img_name_list,\n",
    "    'swath_id': range(len(md_dict[\"name\"])),\n",
    "    'index': range(len(md_dict[\"name\"])),\n",
    "    'x_init': md_dict[\"x\"],\n",
    "    'y_init': md_dict['y'],\n",
    "    'theta_init': [math.radians(yaw) for yaw in md_dict[\"flight yaw\"]],\n",
    "    'scale_init': [1] * len(img_path_list),\n",
    "})\n",
    "init.to_csv(f\"data/{DIR_PATH}/init.csv\", index=False)\n",
    "\n",
    "# run through all the steps\n",
    "v = run(cfg)"
   ]
  }
 ],
 "metadata": {
  "kernelspec": {
   "display_name": "Python (myenv)",
   "language": "python",
   "name": "sd_env"
  },
  "language_info": {
   "codemirror_mode": {
    "name": "ipython",
    "version": 3
   },
   "file_extension": ".py",
   "mimetype": "text/x-python",
   "name": "python",
   "nbconvert_exporter": "python",
   "pygments_lexer": "ipython3",
   "version": "3.6.13"
  }
 },
 "nbformat": 4,
 "nbformat_minor": 5
}
