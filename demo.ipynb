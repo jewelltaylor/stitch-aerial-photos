{
 "cells": [
  {
   "cell_type": "code",
   "execution_count": 1,
   "id": "e2756e55",
   "metadata": {},
   "outputs": [
    {
     "name": "stdout",
     "output_type": "stream",
     "text": [
      "Installed kernelspec sd_env in /Users/taylorjewell/Library/Jupyter/kernels/sd_env\n",
      "/Users/taylorjewell/anaconda3/envs/sd_env/bin/python\n"
     ]
    }
   ],
   "source": [
    "!python -m ipykernel install --user --name sd_env --display-name \"Python (myenv)\"\n",
    "!source /Users/taylorjewell/anaconda3/bin/activate sd_env\n",
    "import sys\n",
    "print(sys.executable)"
   ]
  },
  {
   "cell_type": "code",
   "execution_count": 2,
   "id": "a260304b",
   "metadata": {},
   "outputs": [],
   "source": [
    "import os\n",
    "import sys\n",
    "import yaml\n",
    "import pandas as pd\n",
    "from main import run\n",
    "from IPython.display import Image\n",
    "from utils.cfg import update_cfg\n",
    "from utils.metadata import get_metadata"
   ]
  },
  {
   "cell_type": "code",
   "execution_count": 3,
   "id": "f9a19d98",
   "metadata": {},
   "outputs": [],
   "source": [
    "#Initiliaze file name & path globals\n",
    "DIR_PATH = \"calgary_1200\"\n",
    "IMG_DIR = f\"data/{DIR_PATH}\"\n",
    "img_path_list = [f\"{IMG_DIR}/{path}\" for path in os.listdir(IMG_DIR) if \".jpg\" in path]\n",
    "img_name_list = [path.split(\"/\")[2][:-4] for path in img_path_list]"
   ]
  },
  {
   "cell_type": "code",
   "execution_count": 4,
   "id": "a4e5173a",
   "metadata": {},
   "outputs": [
    {
     "name": "stdout",
     "output_type": "stream",
     "text": [
      "data/calgary_1200/DJI_0009.jpg\n",
      "{'Latitude': 50.901067, 'Longitude': -114.06262036111112, 'Altitude': 1197.18}\n",
      "data/calgary_1200/DJI_0011.jpg\n",
      "{'Latitude': 50.90089591666666, 'Longitude': -114.0635186111111, 'Altitude': 1200.38}\n",
      "data/calgary_1200/DJI_0013.jpg\n",
      "{'Latitude': 50.90027094444444, 'Longitude': -114.06239283333333, 'Altitude': 1200.08}\n",
      "data/calgary_1200/DJI_0006.jpg\n",
      "{'Latitude': 50.90175211111111, 'Longitude': -114.06145147222222, 'Altitude': 1168.28}\n",
      "data/calgary_1200/DJI_0012.jpg\n",
      "{'Latitude': 50.90009777777777, 'Longitude': -114.06312772222222, 'Altitude': 1200.78}\n",
      "{'latitude': [50.901067, 50.90089591666666, 50.90027094444444, 50.90175211111111, 50.90009777777777], 'longitude': [-114.06262036111112, -114.0635186111111, -114.06239283333333, -114.06145147222222, -114.06312772222222], 'relative altitude': [104.4, 107.6, 107.3, 75.5, 108.0], 'flight yaw': [-106.3, -107.2, -107.4, 162.3, -110.3], 'flight pitch': [-4.1, -4.4, -4.1, 0.2, -3.6], 'flight roll': [2.7, 2.4, 1.3, 1.6, 2.3], 'gimbal yaw': [0.7, 0.6, 0.8, -0.2, 0.6], 'gimbal pitch': [-90.0, -90.0, -90.0, -89.9, -90.0], 'gimbal roll': [0.0, 0.0, 0.0, 0.0, 0.0], 'model': ['FC7203', 'FC7203', 'FC7203', 'FC7203', 'FC7203'], 'name': ['DJI_0009.jpg', 'DJI_0011.jpg', 'DJI_0013.jpg', 'DJI_0006.jpg', 'DJI_0012.jpg']}\n"
     ]
    }
   ],
   "source": [
    "md_dict = get_metadata(IMG_DIR)\n",
    "print(md_dict)"
   ]
  },
  {
   "cell_type": "code",
   "execution_count": 5,
   "id": "dde3df91",
   "metadata": {},
   "outputs": [],
   "source": [
    "# Parse and update configuration file\n",
    "with open('config.yaml', 'r') as f:\n",
    "    cfg = yaml.safe_load(f)\n",
    "\n",
    "cfg = update_cfg(cfg, IMG_DIR) "
   ]
  },
  {
   "cell_type": "code",
   "execution_count": 6,
   "id": "1f80c709",
   "metadata": {},
   "outputs": [],
   "source": [
    "centroids = {\n",
    "    # input the initial centroids for the images ['test0', 'test1', 'test2', 'test3']\n",
    "    'x': [0 for i in range(len(img_path_list))],\n",
    "    'y': [0 for i in range(len(img_path_list))],\n",
    "}"
   ]
  },
  {
   "cell_type": "code",
   "execution_count": null,
   "id": "e44ef5e7",
   "metadata": {},
   "outputs": [],
   "source": [
    "%%capture\n",
    "# comment out the line above to show logs\n",
    "# save the initialization\n",
    "init = pd.DataFrame({\n",
    "    'file_id': img_name_list,\n",
    "    'swath_id': range(len(img_path_list)),\n",
    "    'index': range(len(img_path_list)),\n",
    "    'x_init': centroids['x'],\n",
    "    'y_init': centroids['y'],\n",
    "    'theta_init': [0] * len(img_path_list),\n",
    "    'scale_init': [1] * len(img_path_list),\n",
    "})\n",
    "init.to_csv(f\"data/{DIR_PATH}/init.csv\", index=False)\n",
    "\n",
    "# run through all the steps\n",
    "v = run(cfg)"
   ]
  }
 ],
 "metadata": {
  "kernelspec": {
   "display_name": "Python 3",
   "language": "python",
   "name": "python3"
  },
  "language_info": {
   "codemirror_mode": {
    "name": "ipython",
    "version": 3
   },
   "file_extension": ".py",
   "mimetype": "text/x-python",
   "name": "python",
   "nbconvert_exporter": "python",
   "pygments_lexer": "ipython3",
   "version": "3.6.13"
  }
 },
 "nbformat": 4,
 "nbformat_minor": 5
}
