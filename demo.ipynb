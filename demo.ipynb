{
 "cells": [
  {
   "cell_type": "code",
   "execution_count": 1,
   "id": "e2756e55",
   "metadata": {},
   "outputs": [
    {
     "name": "stdout",
     "output_type": "stream",
     "text": [
      "Installed kernelspec sd_env in /Users/taylorjewell/Library/Jupyter/kernels/sd_env\n",
      "/Users/taylorjewell/anaconda3/envs/sd_env/bin/python\n"
     ]
    }
   ],
   "source": [
    "!python -m ipykernel install --user --name sd_env --display-name \"Python (myenv)\"\n",
    "!source /Users/taylorjewell/anaconda3/bin/activate sd_env\n",
    "import sys\n",
    "print(sys.executable)"
   ]
  },
  {
   "cell_type": "code",
   "execution_count": null,
   "id": "a260304b",
   "metadata": {},
   "outputs": [],
   "source": [
    "import os\n",
    "import sys\n",
    "import yaml\n",
    "import pandas as pd\n",
    "from main import run\n",
    "from IPython.display import Image\n",
    "from utils.cfg import update_cfg\n",
    "from utils.initialization import PoseInit"
   ]
  },
  {
   "cell_type": "code",
   "execution_count": null,
   "id": "f9a19d98",
   "metadata": {},
   "outputs": [],
   "source": [
    "#Initiliaze file name & path globals\n",
    "DIR_PATH = \"images\"\n",
    "IMG_DIR = f\"data/{DIR_PATH}\"\n",
    "img_path_list = [f\"{IMG_DIR}/{path}\" for path in os.listdir(IMG_DIR) if \".jpg\" in path or \".JPG\" in path]\n",
    "img_name_list = [path.split(\"/\")[2][:-4] for path in img_path_list]"
   ]
  },
  {
   "cell_type": "code",
   "execution_count": null,
   "id": "b5c046d0",
   "metadata": {},
   "outputs": [],
   "source": [
    "pi = PoseInit(IMG_DIR)\n",
    "md_dict = pi.get_md_dict()\n",
    "print(md_dict)"
   ]
  },
  {
   "cell_type": "code",
   "execution_count": null,
   "id": "dde3df91",
   "metadata": {},
   "outputs": [],
   "source": [
    "# Parse and update configuration file\n",
    "with open('config.yaml', 'r') as f:\n",
    "    cfg = yaml.safe_load(f)\n",
    "\n",
    "cfg = update_cfg(cfg, IMG_DIR) "
   ]
  },
  {
   "cell_type": "code",
   "execution_count": null,
   "id": "1f80c709",
   "metadata": {},
   "outputs": [],
   "source": [
    "centroids = {\n",
    "    # input the initial centroids for the images ['test0', 'test1', 'test2', 'test3']\n",
    "    'x': [0 for i in range(len(img_path_list))],\n",
    "    'y': [0 for i in range(len(img_path_list))],\n",
    "}"
   ]
  },
  {
   "cell_type": "code",
   "execution_count": null,
   "id": "e44ef5e7",
   "metadata": {},
   "outputs": [],
   "source": [
    "\n",
    "# comment out the line above to show logs\n",
    "# save the initialization\n",
    "init = pd.DataFrame({\n",
    "    'file_id': img_name_list,\n",
    "    'swath_id': range(len(md_dict[\"name\"])),\n",
    "    'index': range(len(md_dict[\"name\"])),\n",
    "    'x_init': md_dict[\"x\"],\n",
    "    'y_init': md_dict['y'],\n",
    "    'theta_init': md_dict[\"flight yaw\"],\n",
    "    'scale_init': [1] * len(img_path_list),\n",
    "})\n",
    "init.to_csv(f\"data/{DIR_PATH}/init.csv\", index=False)\n",
    "\n",
    "# run through all the steps\n",
    "v = run(cfg)"
   ]
  }
 ],
 "metadata": {
  "kernelspec": {
   "display_name": "Python (myenv)",
   "language": "python",
   "name": "sd_env"
  },
  "language_info": {
   "codemirror_mode": {
    "name": "ipython",
    "version": 3
   },
   "file_extension": ".py",
   "mimetype": "text/x-python",
   "name": "python",
   "nbconvert_exporter": "python",
   "pygments_lexer": "ipython3",
   "version": "3.6.13"
  }
 },
 "nbformat": 4,
 "nbformat_minor": 5
}
