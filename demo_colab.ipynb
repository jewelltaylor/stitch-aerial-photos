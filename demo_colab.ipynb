{
 "cells": [
  {
   "cell_type": "code",
   "execution_count": null,
   "id": "UMUPI-skJFr4",
   "metadata": {
    "colab": {
     "base_uri": "https://localhost:8080/"
    },
    "id": "UMUPI-skJFr4",
    "outputId": "90c89435-e922-4057-a445-85efb82b2960"
   },
   "outputs": [
    {
     "name": "stdout",
     "output_type": "stream",
     "text": [
      "Requirement already satisfied: utm in /usr/local/lib/python3.7/dist-packages (0.7.0)\n",
      "Requirement already satisfied: piexif in /usr/local/lib/python3.7/dist-packages (1.1.3)\n",
      "Requirement already satisfied: rasterio in /usr/local/lib/python3.7/dist-packages (1.2.6)\n",
      "Requirement already satisfied: certifi in /usr/local/lib/python3.7/dist-packages (from rasterio) (2021.5.30)\n",
      "Requirement already satisfied: snuggs>=1.4.1 in /usr/local/lib/python3.7/dist-packages (from rasterio) (1.4.7)\n",
      "Requirement already satisfied: setuptools in /usr/local/lib/python3.7/dist-packages (from rasterio) (57.2.0)\n",
      "Requirement already satisfied: click>=4.0 in /usr/local/lib/python3.7/dist-packages (from rasterio) (7.1.2)\n",
      "Requirement already satisfied: affine in /usr/local/lib/python3.7/dist-packages (from rasterio) (2.3.0)\n",
      "Requirement already satisfied: attrs in /usr/local/lib/python3.7/dist-packages (from rasterio) (21.2.0)\n",
      "Requirement already satisfied: numpy in /usr/local/lib/python3.7/dist-packages (from rasterio) (1.19.5)\n",
      "Requirement already satisfied: click-plugins in /usr/local/lib/python3.7/dist-packages (from rasterio) (1.1.1)\n",
      "Requirement already satisfied: cligj>=0.5 in /usr/local/lib/python3.7/dist-packages (from rasterio) (0.7.2)\n",
      "Requirement already satisfied: pyparsing>=2.1.6 in /usr/local/lib/python3.7/dist-packages (from snuggs>=1.4.1->rasterio) (2.4.7)\n",
      "Requirement already satisfied: GPSPhoto in /usr/local/lib/python3.7/dist-packages (2.2.3)\n",
      "Requirement already satisfied: exifread in /usr/local/lib/python3.7/dist-packages (2.3.2)\n",
      "Requirement already satisfied: geopandas in /usr/local/lib/python3.7/dist-packages (0.9.0)\n",
      "Requirement already satisfied: shapely>=1.6 in /usr/local/lib/python3.7/dist-packages (from geopandas) (1.7.1)\n",
      "Requirement already satisfied: pyproj>=2.2.0 in /usr/local/lib/python3.7/dist-packages (from geopandas) (3.1.0)\n",
      "Requirement already satisfied: pandas>=0.24.0 in /usr/local/lib/python3.7/dist-packages (from geopandas) (1.1.5)\n",
      "Requirement already satisfied: fiona>=1.8 in /usr/local/lib/python3.7/dist-packages (from geopandas) (1.8.20)\n",
      "Requirement already satisfied: setuptools in /usr/local/lib/python3.7/dist-packages (from fiona>=1.8->geopandas) (57.2.0)\n",
      "Requirement already satisfied: click-plugins>=1.0 in /usr/local/lib/python3.7/dist-packages (from fiona>=1.8->geopandas) (1.1.1)\n",
      "Requirement already satisfied: six>=1.7 in /usr/local/lib/python3.7/dist-packages (from fiona>=1.8->geopandas) (1.15.0)\n",
      "Requirement already satisfied: click>=4.0 in /usr/local/lib/python3.7/dist-packages (from fiona>=1.8->geopandas) (7.1.2)\n",
      "Requirement already satisfied: munch in /usr/local/lib/python3.7/dist-packages (from fiona>=1.8->geopandas) (2.5.0)\n",
      "Requirement already satisfied: attrs>=17 in /usr/local/lib/python3.7/dist-packages (from fiona>=1.8->geopandas) (21.2.0)\n",
      "Requirement already satisfied: certifi in /usr/local/lib/python3.7/dist-packages (from fiona>=1.8->geopandas) (2021.5.30)\n",
      "Requirement already satisfied: cligj>=0.5 in /usr/local/lib/python3.7/dist-packages (from fiona>=1.8->geopandas) (0.7.2)\n",
      "Requirement already satisfied: numpy>=1.15.4 in /usr/local/lib/python3.7/dist-packages (from pandas>=0.24.0->geopandas) (1.19.5)\n",
      "Requirement already satisfied: pytz>=2017.2 in /usr/local/lib/python3.7/dist-packages (from pandas>=0.24.0->geopandas) (2018.9)\n",
      "Requirement already satisfied: python-dateutil>=2.7.3 in /usr/local/lib/python3.7/dist-packages (from pandas>=0.24.0->geopandas) (2.8.1)\n",
      "Requirement already satisfied: opencv-python==3.4.2.17 in /usr/local/lib/python3.7/dist-packages (3.4.2.17)\n",
      "Requirement already satisfied: numpy>=1.14.5 in /usr/local/lib/python3.7/dist-packages (from opencv-python==3.4.2.17) (1.19.5)\n",
      "Requirement already satisfied: opencv-contrib-python==3.4.2.17 in /usr/local/lib/python3.7/dist-packages (3.4.2.17)\n",
      "Requirement already satisfied: numpy>=1.14.5 in /usr/local/lib/python3.7/dist-packages (from opencv-contrib-python==3.4.2.17) (1.19.5)\n"
     ]
    }
   ],
   "source": [
    "!pip3 install utm\n",
    "!pip3 install piexif\n",
    "!pip3 install rasterio\n",
    "!pip3 install GPSPhoto\n",
    "!pip3 install exifread\n",
    "!pip3 install geopandas \n",
    "!pip3 install opencv-python==3.4.2.17\n",
    "!pip3 install opencv-contrib-python==3.4.2.17"
   ]
  },
  {
   "cell_type": "code",
   "execution_count": null,
   "id": "3856d759",
   "metadata": {
    "id": "3856d759"
   },
   "outputs": [],
   "source": [
    "# !python -m ipykernel install --user --name sd_env --display-name \"Python (myenv)\"\n",
    "#!source /Users/taylorjewell/anaconda3/bin/activate sd_env"
   ]
  },
  {
   "cell_type": "code",
   "execution_count": null,
   "id": "a260304b",
   "metadata": {
    "id": "a260304b"
   },
   "outputs": [],
   "source": [
    "import os\n",
    "import sys\n",
    "import yaml\n",
    "import math\n",
    "import pandas as pd\n",
    "from google.colab import drive \n",
    "from IPython.display import Image"
   ]
  },
  {
   "cell_type": "code",
   "execution_count": null,
   "id": "S0Na-XppK4No",
   "metadata": {
    "colab": {
     "base_uri": "https://localhost:8080/"
    },
    "id": "S0Na-XppK4No",
    "outputId": "32194e92-5675-4fd0-a1f5-32b2bf1111c9"
   },
   "outputs": [
    {
     "name": "stdout",
     "output_type": "stream",
     "text": [
      "Mounted at /content/gdrive\n",
      "/content/gdrive/My Drive/stitch-aerial-photos\n"
     ]
    }
   ],
   "source": [
    "drive.mount('/content/gdrive', force_remount=True)\n",
    "%cd /content/gdrive/My Drive/stitch-aerial-photos"
   ]
  },
  {
   "cell_type": "code",
   "execution_count": null,
   "id": "XbPWWb3kLKeO",
   "metadata": {
    "id": "XbPWWb3kLKeO"
   },
   "outputs": [],
   "source": [
    "from main import run\n",
    "from utils.cfg import update_cfg\n",
    "from utils.initialization import PoseInit"
   ]
  },
  {
   "cell_type": "code",
   "execution_count": null,
   "id": "f9a19d98",
   "metadata": {
    "id": "f9a19d98"
   },
   "outputs": [],
   "source": [
    "#Initiliaze file name & path globals\n",
    "DIR_PATH = \"images\"\n",
    "IMG_DIR = f\"data/{DIR_PATH}\"\n",
    "img_path_list = [f\"{IMG_DIR}/{path}\" for path in os.listdir(IMG_DIR) if \".jpg\" in path or \".JPG\" in path]\n",
    "img_name_list = [path.split(\"/\")[2][:-4] for path in img_path_list]"
   ]
  },
  {
   "cell_type": "code",
   "execution_count": null,
   "id": "2a6056ef",
   "metadata": {
    "colab": {
     "base_uri": "https://localhost:8080/"
    },
    "id": "2a6056ef",
    "outputId": "cba246f9-c2f4-4971-93a6-317b9f4c527d"
   },
   "outputs": [
    {
     "name": "stdout",
     "output_type": "stream",
     "text": [
      "['dji_0009.jpg', 'dji_0010.jpg', 'dji_0011.jpg', 'dji_0012.jpg']\n",
      "['dji_0009', 'dji_0010', 'dji_0011', 'dji_0012']\n"
     ]
    }
   ],
   "source": [
    "#Get initializations\n",
    "pi = PoseInit(IMG_DIR)\n",
    "md_dict = pi.get_md_dict()\n",
    "print(md_dict[\"name\"])\n",
    "print(img_name_list)"
   ]
  },
  {
   "cell_type": "code",
   "execution_count": null,
   "id": "dde3df91",
   "metadata": {
    "id": "dde3df91"
   },
   "outputs": [],
   "source": [
    "# Parse and update configuration file\n",
    "with open('config.yaml', 'r') as f:\n",
    "    cfg = yaml.safe_load(f)\n",
    "\n",
    "cfg = update_cfg(cfg, IMG_DIR, name=DIR_PATH) "
   ]
  },
  {
   "cell_type": "code",
   "execution_count": null,
   "id": "e44ef5e7",
   "metadata": {
    "colab": {
     "base_uri": "https://localhost:8080/"
    },
    "id": "e44ef5e7",
    "outputId": "724ae7d9-3a88-43ca-d842-564af2118fbb"
   },
   "outputs": [
    {
     "name": "stderr",
     "output_type": "stream",
     "text": [
      "\r",
      "Building links.:   0%|          | 0/6 [00:00<?, ?it/s]"
     ]
    },
    {
     "name": "stdout",
     "output_type": "stream",
     "text": [
      "Step 1\n",
      "\n",
      "\n",
      "           x_init      y_init  theta_init  scale_init\n",
      "index                                                \n",
      "0      505.033155  333.038211   -0.178024           1\n",
      "1     -373.377310  456.004205   -0.179769           1\n",
      "2     -503.789231 -394.342831   -0.191986           1\n",
      "3     -135.845544 -456.004205   -0.191986           1\n",
      "        file_id  swath_id  ...  width  height\n",
      "index                      ...               \n",
      "0      dji_0009         0  ...   4000    3000\n",
      "1      dji_0010         1  ...   4000    3000\n",
      "2      dji_0011         2  ...   4000    3000\n",
      "3      dji_0012         3  ...   4000    3000\n",
      "\n",
      "[4 rows x 12 columns]\n",
      "\n",
      "\n",
      "Initializing virtual raster.\n",
      "Step 2\n",
      "Step 3\n",
      "MAX_DIST None\n",
      "Graph:  defaultdict(<class 'list'>, {0: [1, 2, 3], 1: [0, 2, 3], 2: [0, 1, 3], 3: [0, 1, 2]})\n",
      "[[ 9.8381e-01  1.7869e-01 -2.3566e+02]\n",
      " [-1.7879e-01  9.8387e-01  3.8178e+02]\n",
      " [ 0.0000e+00  0.0000e+00  1.0000e+00]]\n",
      "[[ 9.8265e-01  1.8316e-01 -2.4005e+02]\n",
      " [-1.8385e-01  9.8268e-01  3.9367e+02]\n",
      " [ 0.0000e+00  0.0000e+00  1.0000e+00]]\n",
      "IMG0SIZE (2760, 3760)\n"
     ]
    },
    {
     "name": "stderr",
     "output_type": "stream",
     "text": [
      "\r",
      "Building links.:  17%|█▋        | 1/6 [00:20<01:43, 20.65s/it]"
     ]
    },
    {
     "name": "stdout",
     "output_type": "stream",
     "text": [
      "[[ 9.8381e-01  1.7869e-01 -2.3566e+02]\n",
      " [-1.7879e-01  9.8387e-01  3.8178e+02]\n",
      " [ 0.0000e+00  0.0000e+00  1.0000e+00]]\n",
      "[[ 9.8124e-01  1.9241e-01 -2.5110e+02]\n",
      " [-1.9250e-01  9.8128e-01  4.1308e+02]\n",
      " [ 0.0000e+00  0.0000e+00  1.0000e+00]]\n",
      "IMG0SIZE (2760, 3760)\n"
     ]
    },
    {
     "name": "stderr",
     "output_type": "stream",
     "text": [
      "\r",
      "Building links.:  33%|███▎      | 2/6 [00:38<01:19, 19.89s/it]"
     ]
    },
    {
     "name": "stdout",
     "output_type": "stream",
     "text": [
      "[[ 9.8381e-01  1.7869e-01 -2.3566e+02]\n",
      " [-1.7879e-01  9.8387e-01  3.8178e+02]\n",
      " [ 0.0000e+00  0.0000e+00  1.0000e+00]]\n",
      "[[ 9.8093e-01  1.9419e-01 -2.5315e+02]\n",
      " [-1.9422e-01  9.8095e-01  4.1702e+02]\n",
      " [ 0.0000e+00  0.0000e+00  1.0000e+00]]\n",
      "IMG0SIZE (2760, 3760)\n"
     ]
    },
    {
     "name": "stderr",
     "output_type": "stream",
     "text": [
      "\r",
      "Building links.:  50%|█████     | 3/6 [00:56<00:57, 19.31s/it]"
     ]
    },
    {
     "name": "stdout",
     "output_type": "stream",
     "text": [
      "[[ 9.8265e-01  1.8316e-01 -2.4005e+02]\n",
      " [-1.8385e-01  9.8268e-01  3.9367e+02]\n",
      " [ 0.0000e+00  0.0000e+00  1.0000e+00]]\n",
      "[[ 9.8124e-01  1.9241e-01 -2.5110e+02]\n",
      " [-1.9250e-01  9.8128e-01  4.1308e+02]\n",
      " [ 0.0000e+00  0.0000e+00  1.0000e+00]]\n",
      "IMG0SIZE (2760, 3760)\n"
     ]
    },
    {
     "name": "stderr",
     "output_type": "stream",
     "text": [
      "\r",
      "Building links.:  67%|██████▋   | 4/6 [01:14<00:37, 18.70s/it]"
     ]
    },
    {
     "name": "stdout",
     "output_type": "stream",
     "text": [
      "[[ 9.8265e-01  1.8316e-01 -2.4005e+02]\n",
      " [-1.8385e-01  9.8268e-01  3.9367e+02]\n",
      " [ 0.0000e+00  0.0000e+00  1.0000e+00]]\n",
      "[[ 9.8093e-01  1.9419e-01 -2.5315e+02]\n",
      " [-1.9422e-01  9.8095e-01  4.1702e+02]\n",
      " [ 0.0000e+00  0.0000e+00  1.0000e+00]]\n",
      "IMG0SIZE (2760, 3760)\n"
     ]
    },
    {
     "name": "stderr",
     "output_type": "stream",
     "text": [
      "\r",
      "Building links.:  83%|████████▎ | 5/6 [01:31<00:18, 18.30s/it]"
     ]
    },
    {
     "name": "stdout",
     "output_type": "stream",
     "text": [
      "[[ 9.8124e-01  1.9241e-01 -2.5110e+02]\n",
      " [-1.9250e-01  9.8128e-01  4.1308e+02]\n",
      " [ 0.0000e+00  0.0000e+00  1.0000e+00]]\n",
      "[[ 9.8093e-01  1.9419e-01 -2.5315e+02]\n",
      " [-1.9422e-01  9.8095e-01  4.1702e+02]\n",
      " [ 0.0000e+00  0.0000e+00  1.0000e+00]]\n",
      "IMG0SIZE (2760, 3760)\n"
     ]
    },
    {
     "name": "stderr",
     "output_type": "stream",
     "text": [
      "Building links.: 100%|██████████| 6/6 [01:46<00:00, 17.74s/it]\n"
     ]
    },
    {
     "name": "stdout",
     "output_type": "stream",
     "text": [
      "{(0, 1): Affine(1.0057256037113074, -0.00956934228183276, -918.1128610723177,\n",
      "       0.00956934228183276, 1.0057256037113074, 111.28430973911695), (0, 2): Affine(1.0121753813570458, -0.01551679374373251, -1036.8825871971508,\n",
      "       0.01551679374373251, 1.0121753813570458, -867.7802604546804), (0, 3): Affine(1.0076057063720925, -0.027151298604734656, -650.507127763693,\n",
      "       0.027151298604734656, 1.0076057063720925, -947.211084966133), (1, 2): Affine(1.004242826332786, -0.0014452622849895611, -131.4452869272159,\n",
      "       0.0014452622849895611, 1.004242826332786, -963.295884826638), (1, 3): Affine(1.0018046632599504, -0.010141582021670459, 248.75621365736282,\n",
      "       0.010141582021670459, 1.0018046632599504, -1046.1475717660862), (2, 3): Affine(0.9947548536486325, -0.005392754840818305, 381.4143031461704,\n",
      "       0.005392754840818305, 0.9947548536486325, -66.5846838019865), (1, 0): Affine(0.9942169831112435, 0.009459839322668388, 911.7506672016858,\n",
      "       -0.009459839322668388, 0.9942169831112435, -119.32595084226152), (2, 0): Affine(0.9877389436020004, 0.015142179648724363, 1037.3093959168446,\n",
      "       -0.015142179648724363, 0.9877389436020004, 841.4396953302014), (2, 1): Affine(0.9957730367718416, 0.0014330729348709925, 132.2701457936775,\n",
      "       -0.0014330729348709925, 0.9957730367718416, 959.0356978605278), (3, 0): Affine(0.991731601569538, 0.026723549380160645, 670.4413178520153,\n",
      "       -0.026723549380160645, 0.991731601569538, 921.9953069669433), (3, 1): Affine(0.998096301313424, 0.010104041113521402, -237.71233870421057,\n",
      "       -0.010104041113521402, 0.998096301313424, 1046.6694650177883), (3, 2): Affine(1.0052432595803582, 0.005449614479807068, -383.0512964882466,\n",
      "       -0.005449614479807068, 1.0052432595803582, 69.01236549246728)}\n",
      "Step 4\n",
      "Globally optimizing.\n",
      "Iter: 199; Loss: 1693943201792.000\n",
      "Iter: 399; Loss: 998615744512.000\n",
      "Iter: 599; Loss: 554619305984.000\n",
      "Iter: 799; Loss: 287686557696.000\n",
      "Iter: 999; Loss: 138082861056.000\n",
      "Iter: 1199; Loss: 60682076160.000\n",
      "Iter: 1399; Loss: 24118829056.000\n",
      "Iter: 1599; Loss: 8552458240.000\n",
      "Iter: 1799; Loss: 2666766336.000\n",
      "Iter: 1999; Loss: 720410688.000\n",
      "Iter: 2199; Loss: 166021616.000\n",
      "Iter: 2399; Loss: 32102704.000\n",
      "Iter: 2599; Loss: 5114300.000\n",
      "Iter: 2799; Loss: 658539.625\n",
      "Iter: 2999; Loss: 68189.484\n",
      "Iter: 3199; Loss: 6895.494\n",
      "Iter: 3399; Loss: 2041.178\n",
      "Iter: 3599; Loss: 1757.541\n",
      "Iter: 3799; Loss: 1745.718\n",
      "Iter: 3999; Loss: 1745.414\n",
      "Iter: 4199; Loss: 1745.412\n",
      "Iter: 4399; Loss: 1745.403\n",
      "Iter: 4599; Loss: 1745.396\n",
      "Iter: 4799; Loss: 1745.388\n",
      "Iter: 4999; Loss: 1745.384\n",
      "Iter: 5199; Loss: 1745.379\n",
      "Iter: 5399; Loss: 1745.377\n",
      "Iter: 5599; Loss: 1745.374\n",
      "Iter: 5799; Loss: 1745.371\n",
      "Iter: 5999; Loss: 1745.372\n",
      "Iter: 6199; Loss: 1745.368\n",
      "Iter: 6399; Loss: 1745.368\n",
      "Iter: 6599; Loss: 1745.366\n",
      "Iter: 6799; Loss: 1745.366\n",
      "Iter: 6999; Loss: 1745.370\n",
      "Iter: 7199; Loss: 1745.370\n",
      "Iter: 7399; Loss: 1745.370\n",
      "Iter: 7599; Loss: 1745.369\n",
      "Iter: 7799; Loss: 1745.369\n",
      "Iter: 7999; Loss: 1745.369\n",
      "Iter: 8199; Loss: 1745.368\n",
      "Iter: 8399; Loss: 1745.368\n",
      "Iter: 8599; Loss: 1745.368\n",
      "Iter: 8799; Loss: 1745.368\n",
      "Iter: 8999; Loss: 1745.368\n",
      "Iter: 9199; Loss: 1745.368\n",
      "Iter: 9399; Loss: 1745.368\n",
      "Iter: 9599; Loss: 2089.313\n",
      "Iter: 9799; Loss: 1745.368\n",
      "Iter: 9999; Loss: 1745.368\n",
      "Iter: 10199; Loss: 1745.368\n",
      "Iter: 10399; Loss: 1745.368\n",
      "Iter: 10599; Loss: 1745.368\n",
      "Iter: 10799; Loss: 1745.381\n",
      "Iter: 10999; Loss: 1745.365\n",
      "Iter: 11199; Loss: 1745.365\n",
      "Iter: 11399; Loss: 1745.365\n",
      "Iter: 11599; Loss: 1745.365\n",
      "Iter: 11799; Loss: 1745.365\n"
     ]
    },
    {
     "name": "stderr",
     "output_type": "stream",
     "text": [
      "\r",
      "0it [00:00, ?it/s]"
     ]
    },
    {
     "name": "stdout",
     "output_type": "stream",
     "text": [
      "Iter: 11999; Loss: 1745.365\n",
      "Thetas:  tensor([-0.1279, -0.1304, -0.1402, -0.1421], requires_grad=True)\n",
      "Step 5\n",
      "Band Shape (2760, 3520)\n",
      "Band Shape (2760, 3520)\n",
      "Band Shape (2760, 3520)\n"
     ]
    },
    {
     "name": "stderr",
     "output_type": "stream",
     "text": [
      "\r",
      "1it [00:01,  1.97s/it]"
     ]
    },
    {
     "name": "stdout",
     "output_type": "stream",
     "text": [
      "Band Shape (2760, 3520)\n",
      "Band Shape (2760, 3520)\n",
      "Band Shape (2760, 3520)\n"
     ]
    },
    {
     "name": "stderr",
     "output_type": "stream",
     "text": [
      "\r",
      "2it [00:03,  1.90s/it]"
     ]
    },
    {
     "name": "stdout",
     "output_type": "stream",
     "text": [
      "Band Shape (2760, 3520)\n",
      "Band Shape (2760, 3520)\n",
      "Band Shape (2760, 3520)\n"
     ]
    },
    {
     "name": "stderr",
     "output_type": "stream",
     "text": [
      "\r",
      "3it [00:05,  1.82s/it]"
     ]
    },
    {
     "name": "stdout",
     "output_type": "stream",
     "text": [
      "Band Shape (2760, 3520)\n",
      "Band Shape (2760, 3520)\n"
     ]
    },
    {
     "name": "stderr",
     "output_type": "stream",
     "text": [
      "4it [00:07,  1.76s/it]\n",
      "0it [00:00, ?it/s]"
     ]
    },
    {
     "name": "stdout",
     "output_type": "stream",
     "text": [
      "Band Shape (2760, 3520)\n",
      "Band Shape (2760, 3520)\n",
      "Band Shape (2760, 3520)\n",
      "Band Shape (2760, 3520)\n"
     ]
    },
    {
     "name": "stderr",
     "output_type": "stream",
     "text": [
      "\r",
      "1it [00:01,  1.68s/it]"
     ]
    },
    {
     "name": "stdout",
     "output_type": "stream",
     "text": [
      "Band Shape (2760, 3520)\n",
      "Band Shape (2760, 3520)\n",
      "Band Shape (2760, 3520)\n"
     ]
    },
    {
     "name": "stderr",
     "output_type": "stream",
     "text": [
      "\r",
      "2it [00:03,  1.65s/it]"
     ]
    },
    {
     "name": "stdout",
     "output_type": "stream",
     "text": [
      "Band Shape (2760, 3520)\n",
      "Band Shape (2760, 3520)\n",
      "Band Shape (2760, 3520)\n"
     ]
    },
    {
     "name": "stderr",
     "output_type": "stream",
     "text": [
      "\r",
      "3it [00:04,  1.63s/it]"
     ]
    },
    {
     "name": "stdout",
     "output_type": "stream",
     "text": [
      "Band Shape (2760, 3520)\n",
      "Band Shape (2760, 3520)\n",
      "Band Shape (2760, 3520)\n"
     ]
    },
    {
     "name": "stderr",
     "output_type": "stream",
     "text": [
      "4it [00:06,  1.61s/it]\n",
      "0it [00:00, ?it/s]"
     ]
    },
    {
     "name": "stdout",
     "output_type": "stream",
     "text": [
      "Band Shape (2760, 3520)\n",
      "Band Shape (2760, 3520)\n",
      "Band Shape (2760, 3520)\n"
     ]
    },
    {
     "name": "stderr",
     "output_type": "stream",
     "text": [
      "\r",
      "1it [00:01,  1.63s/it]"
     ]
    },
    {
     "name": "stdout",
     "output_type": "stream",
     "text": [
      "Band Shape (2760, 3520)\n",
      "Band Shape (2760, 3520)\n",
      "Band Shape (2760, 3520)\n"
     ]
    },
    {
     "name": "stderr",
     "output_type": "stream",
     "text": [
      "\r",
      "2it [00:03,  1.64s/it]"
     ]
    },
    {
     "name": "stdout",
     "output_type": "stream",
     "text": [
      "Band Shape (2760, 3520)\n",
      "Band Shape (2760, 3520)\n",
      "Band Shape (2760, 3520)\n"
     ]
    },
    {
     "name": "stderr",
     "output_type": "stream",
     "text": [
      "\r",
      "3it [00:05,  1.66s/it]"
     ]
    },
    {
     "name": "stdout",
     "output_type": "stream",
     "text": [
      "Band Shape (2760, 3520)\n",
      "Band Shape (2760, 3520)\n",
      "Band Shape (2760, 3520)\n"
     ]
    },
    {
     "name": "stderr",
     "output_type": "stream",
     "text": [
      "4it [00:06,  1.66s/it]\n",
      "0it [00:00, ?it/s]"
     ]
    },
    {
     "name": "stdout",
     "output_type": "stream",
     "text": [
      "Band Shape (2760, 3520)\n",
      "Band Shape (2760, 3520)\n",
      "Band Shape (2760, 3520)\n"
     ]
    },
    {
     "name": "stderr",
     "output_type": "stream",
     "text": [
      "\r",
      "1it [00:01,  1.67s/it]"
     ]
    },
    {
     "name": "stdout",
     "output_type": "stream",
     "text": [
      "Band Shape (2760, 3520)\n",
      "Band Shape (2760, 3520)\n",
      "Band Shape (2760, 3520)\n"
     ]
    },
    {
     "name": "stderr",
     "output_type": "stream",
     "text": [
      "\r",
      "2it [00:03,  1.68s/it]"
     ]
    },
    {
     "name": "stdout",
     "output_type": "stream",
     "text": [
      "Band Shape (2760, 3520)\n",
      "Band Shape (2760, 3520)\n",
      "Band Shape (2760, 3520)\n"
     ]
    },
    {
     "name": "stderr",
     "output_type": "stream",
     "text": [
      "\r",
      "3it [00:05,  1.68s/it]"
     ]
    },
    {
     "name": "stdout",
     "output_type": "stream",
     "text": [
      "Band Shape (2760, 3520)\n",
      "Band Shape (2760, 3520)\n",
      "Band Shape (2760, 3520)\n"
     ]
    },
    {
     "name": "stderr",
     "output_type": "stream",
     "text": [
      "4it [00:06,  1.69s/it]\n",
      "0it [00:00, ?it/s]"
     ]
    },
    {
     "name": "stdout",
     "output_type": "stream",
     "text": [
      "Band Shape (2760, 3520)\n",
      "Band Shape (2760, 3520)\n",
      "Band Shape (2760, 3520)\n"
     ]
    },
    {
     "name": "stderr",
     "output_type": "stream",
     "text": [
      "\r",
      "1it [00:01,  1.64s/it]"
     ]
    },
    {
     "name": "stdout",
     "output_type": "stream",
     "text": [
      "Band Shape (2760, 3520)\n",
      "Band Shape (2760, 3520)\n",
      "Band Shape (2760, 3520)\n"
     ]
    },
    {
     "name": "stderr",
     "output_type": "stream",
     "text": [
      "\r",
      "2it [00:03,  1.65s/it]"
     ]
    },
    {
     "name": "stdout",
     "output_type": "stream",
     "text": [
      "Band Shape (2760, 3520)\n",
      "Band Shape (2760, 3520)\n",
      "Band Shape (2760, 3520)\n"
     ]
    },
    {
     "name": "stderr",
     "output_type": "stream",
     "text": [
      "\r",
      "3it [00:05,  1.67s/it]"
     ]
    },
    {
     "name": "stdout",
     "output_type": "stream",
     "text": [
      "Band Shape (2760, 3520)\n",
      "Band Shape (2760, 3520)\n",
      "Band Shape (2760, 3520)\n"
     ]
    },
    {
     "name": "stderr",
     "output_type": "stream",
     "text": [
      "4it [00:06,  1.70s/it]\n",
      "0it [00:00, ?it/s]"
     ]
    },
    {
     "name": "stdout",
     "output_type": "stream",
     "text": [
      "Band Shape (2760, 3520)\n",
      "Band Shape (2760, 3520)\n",
      "Band Shape (2760, 3520)\n"
     ]
    },
    {
     "name": "stderr",
     "output_type": "stream",
     "text": [
      "\r",
      "1it [00:01,  1.59s/it]"
     ]
    },
    {
     "name": "stdout",
     "output_type": "stream",
     "text": [
      "Band Shape (2760, 3520)\n",
      "Band Shape (2760, 3520)\n",
      "Band Shape (2760, 3520)\n"
     ]
    },
    {
     "name": "stderr",
     "output_type": "stream",
     "text": [
      "\r",
      "2it [00:03,  1.58s/it]"
     ]
    },
    {
     "name": "stdout",
     "output_type": "stream",
     "text": [
      "Band Shape (2760, 3520)\n",
      "Band Shape (2760, 3520)\n",
      "Band Shape (2760, 3520)\n"
     ]
    },
    {
     "name": "stderr",
     "output_type": "stream",
     "text": [
      "\r",
      "3it [00:04,  1.58s/it]"
     ]
    },
    {
     "name": "stdout",
     "output_type": "stream",
     "text": [
      "Band Shape (2760, 3520)\n",
      "Band Shape (2760, 3520)\n",
      "Band Shape (2760, 3520)\n"
     ]
    },
    {
     "name": "stderr",
     "output_type": "stream",
     "text": [
      "4it [00:06,  1.58s/it]\n",
      "0it [00:00, ?it/s]"
     ]
    },
    {
     "name": "stdout",
     "output_type": "stream",
     "text": [
      "Band Shape (2760, 3520)\n",
      "Band Shape (2760, 3520)\n",
      "Band Shape (2760, 3520)\n"
     ]
    },
    {
     "name": "stderr",
     "output_type": "stream",
     "text": [
      "\r",
      "1it [00:01,  1.51s/it]"
     ]
    },
    {
     "name": "stdout",
     "output_type": "stream",
     "text": [
      "Band Shape (2760, 3520)\n",
      "Band Shape (2760, 3520)\n",
      "Band Shape (2760, 3520)\n"
     ]
    },
    {
     "name": "stderr",
     "output_type": "stream",
     "text": [
      "\r",
      "2it [00:03,  1.52s/it]"
     ]
    },
    {
     "name": "stdout",
     "output_type": "stream",
     "text": [
      "Band Shape (2760, 3520)\n",
      "Band Shape (2760, 3520)\n",
      "Band Shape (2760, 3520)\n"
     ]
    },
    {
     "name": "stderr",
     "output_type": "stream",
     "text": [
      "\r",
      "3it [00:04,  1.53s/it]"
     ]
    },
    {
     "name": "stdout",
     "output_type": "stream",
     "text": [
      "Band Shape (2760, 3520)\n",
      "Band Shape (2760, 3520)\n",
      "Band Shape (2760, 3520)\n"
     ]
    },
    {
     "name": "stderr",
     "output_type": "stream",
     "text": [
      "4it [00:06,  1.55s/it]\n"
     ]
    },
    {
     "name": "stdout",
     "output_type": "stream",
     "text": [
      "Step 6\n",
      "Main function runtime: 0.052 hour(s)\n"
     ]
    }
   ],
   "source": [
    "#Save ave the initialization\n",
    "init = pd.DataFrame({\n",
    "    'file_id': img_name_list,\n",
    "    'swath_id': range(len(md_dict[\"name\"])),\n",
    "    'index': range(len(md_dict[\"name\"])),\n",
    "    'x_init': md_dict[\"x\"],\n",
    "    'y_init': md_dict['y'],\n",
    "    'theta_init': [math.radians(yaw) for yaw in md_dict[\"flight yaw\"]],\n",
    "    'pitch_init':  [math.radians(pitch) for pitch in md_dict[\"flight pitch\"]],\n",
    "    'roll_init': [math.radians(roll) for roll in md_dict[\"flight roll\"]],\n",
    "    'scale_init': [1] * len(img_path_list),\n",
    "})\n",
    "init.to_csv(f\"data/{DIR_PATH}/init.csv\", index=False)\n",
    "\n",
    "# run through all the steps\n",
    "v = run(cfg)"
   ]
  }
 ],
 "metadata": {
  "accelerator": "GPU",
  "colab": {
   "collapsed_sections": [],
   "machine_shape": "hm",
   "name": "demo_colab.ipynb",
   "provenance": []
  },
  "kernelspec": {
   "display_name": "Python 3",
   "language": "python",
   "name": "python3"
  },
  "language_info": {
   "codemirror_mode": {
    "name": "ipython",
    "version": 3
   },
   "file_extension": ".py",
   "mimetype": "text/x-python",
   "name": "python",
   "nbconvert_exporter": "python",
   "pygments_lexer": "ipython3",
   "version": "3.8.8"
  }
 },
 "nbformat": 4,
 "nbformat_minor": 5
}
